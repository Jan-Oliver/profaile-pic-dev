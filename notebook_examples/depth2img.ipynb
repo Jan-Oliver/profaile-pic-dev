{
 "cells": [
  {
   "cell_type": "code",
   "execution_count": null,
   "metadata": {},
   "outputs": [],
   "source": [
    "!git clone https://github.com/huggingface/diffusers.git\n",
    "!cd /content/diffusers && pip install .\n",
    "!pip install transformers scipy ftfy accelerate\n",
    "!pip install \"ipywidgets>=7,<8\"\n",
    "!pip install -U git+https://github.com/huggingface/transformers.git"
   ]
  },
  {
   "cell_type": "code",
   "execution_count": null,
   "metadata": {},
   "outputs": [],
   "source": [
    "import torch\n",
    "import requests\n",
    "from PIL import Image\n",
    "\n",
    "from diffusers import StableDiffusionDepth2ImgPipeline\n",
    "\n",
    "pipe = StableDiffusionDepth2ImgPipeline.from_pretrained(\n",
    "    \"stabilityai/stable-diffusion-2-depth\",\n",
    "    torch_dtype=torch.float16,\n",
    ").to(\"cuda\")\n",
    "\n",
    "\n",
    "url = \"http://images.cocodataset.org/val2017/000000039769.jpg\"\n",
    "init_image = Image.open(requests.get(url, stream=True).raw)\n",
    "prompt = \"two tigers\"\n",
    "n_propmt = \"bad, deformed, ugly, bad anotomy\"\n",
    "image = pipe(prompt=prompt, image=init_image, negative_prompt=n_propmt, strength=0.7).images[0]"
   ]
  }
 ],
 "metadata": {
  "kernelspec": {
   "display_name": "Python 3.10.8 64-bit",
   "language": "python",
   "name": "python3"
  },
  "language_info": {
   "name": "python",
   "version": "3.10.8"
  },
  "orig_nbformat": 4,
  "vscode": {
   "interpreter": {
    "hash": "b0fa6594d8f4cbf19f97940f81e996739fb7646882a419484c72d19e05852a7e"
   }
  }
 },
 "nbformat": 4,
 "nbformat_minor": 2
}
