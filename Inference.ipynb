{
 "cells": [
  {
   "cell_type": "markdown",
   "metadata": {},
   "source": [
    "### Check type of GPU and VRAM available."
   ]
  },
  {
   "cell_type": "code",
   "execution_count": null,
   "metadata": {},
   "outputs": [],
   "source": [
    "!nvidia-smi --query-gpu=name,memory.total,memory.free --format=csv,noheader"
   ]
  },
  {
   "cell_type": "markdown",
   "metadata": {},
   "source": [
    "### Install Dependencies"
   ]
  },
  {
   "cell_type": "code",
   "execution_count": null,
   "metadata": {},
   "outputs": [],
   "source": [
    "# Clone repos we need\n",
    "!git clone https://github.com/Jan-Oliver/profaile-pic-dev.git\n",
    "!git clone https://github.com/huggingface/diffusers.git\n",
    "\n",
    "# Handle all of the dependencies\n",
    "!cd /content/profaile-pic-dev && chmod +x dreambooth/setup_dreambooth_env.sh\n",
    "!cd /content/profaile-pic-dev && dreambooth/setup_dreambooth_env.sh\n",
    "!cd /content/profaile-pic-dev && chmod +x inference/setup_inference_env.sh\n",
    "!cd /content/profaile-pic-dev && inference/setup_inference_env.sh"
   ]
  },
  {
   "cell_type": "markdown",
   "metadata": {},
   "source": [
    "### Set up W&B and GDrive"
   ]
  },
  {
   "cell_type": "code",
   "execution_count": null,
   "metadata": {},
   "outputs": [],
   "source": [
    "from google.colab import drive\n",
    "drive.mount('/content/drive')"
   ]
  },
  {
   "cell_type": "code",
   "execution_count": null,
   "metadata": {},
   "outputs": [],
   "source": [
    "import wandb\n",
    "wandb.login()"
   ]
  },
  {
   "cell_type": "markdown",
   "metadata": {},
   "source": [
    "### Load model from W&B"
   ]
  },
  {
   "cell_type": "code",
   "execution_count": null,
   "metadata": {},
   "outputs": [],
   "source": [
    "run = wandb.init()\n",
    "\n",
    "artifact = run.use_artifact('janoliver/stable-diffusion2/SD2.1_finetuned_jseidenfuss:v0', type='model')\n",
    "artifact_dir = artifact.download()\n",
    "\n",
    "run.finish()"
   ]
  },
  {
   "cell_type": "markdown",
   "metadata": {},
   "source": [
    "### Convert model to diffusion"
   ]
  },
  {
   "cell_type": "code",
   "execution_count": null,
   "metadata": {},
   "outputs": [],
   "source": [
    "\n",
    "api = wandb.Api()\n",
    "​\n",
    "run = api.run(\"<entity>/<project>/<run_id>\")\n",
    "for file in run.files():\n",
    "    file.download()"
   ]
  },
  {
   "cell_type": "code",
   "execution_count": null,
   "metadata": {},
   "outputs": [],
   "source": [
    "PRECISION = \"no\" # We don't use any type of "
   ]
  },
  {
   "cell_type": "markdown",
   "metadata": {},
   "source": [
    "### Settings and run"
   ]
  },
  {
   "cell_type": "markdown",
   "metadata": {},
   "source": [
    "# Name for W&B\n",
    "PROJECT_NAME = \"stable-diffusion2-\"\n",
    "# Group name also used to finetune the model\n",
    "GROUP_NAME = \"exp-finetuning-Nimages-10\"\n",
    "# Store model weights\n",
    "OUTPUT_DIR_NAME = \"stable_diffusion_weights/train\"\n",
    "\n",
    "# Path to the class images that should be used to prevent overfitting. \n",
    "# Set to None if the model output should be used.\n",
    "CLASS_IMAGES_DIR_DRIVE = \"/content/drive/MyDrive/StableDiffusion/...\"\n",
    "# Instance images to finetune the model on\n",
    "INSTANCE_IMAGES_DIR_DRIVE = \"/content/drive/MyDrive/StableDiffusion/pictures_jseidenfuss/10\"\n",
    "\n",
    "\n",
    "# 2.1 with 512x512 resolution \n",
    "MODEL_NAME = \"stabilityai/stable-diffusion-2-1-base\" \n",
    "# 2.1 with resolution 712x712\n",
    "# MODEL_NAME = \"stabilityai/stable-diffusion-2-1\"\n",
    "# Use already pretrained model in diffuser format\n",
    "# MODELNAME = os.path.join(\"content\", ...)"
   ]
  }
 ],
 "metadata": {
  "kernelspec": {
   "display_name": "Python 3.10.8 64-bit",
   "language": "python",
   "name": "python3"
  },
  "language_info": {
   "name": "python",
   "version": "3.10.8"
  },
  "orig_nbformat": 4,
  "vscode": {
   "interpreter": {
    "hash": "b0fa6594d8f4cbf19f97940f81e996739fb7646882a419484c72d19e05852a7e"
   }
  }
 },
 "nbformat": 4,
 "nbformat_minor": 2
}
